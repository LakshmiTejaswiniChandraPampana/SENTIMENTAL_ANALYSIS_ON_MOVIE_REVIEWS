{
 "cells": [
  {
   "cell_type": "markdown",
   "id": "2936fc05",
   "metadata": {},
   "source": [
    "# Movie Analysis Project\n",
    "This notebook covers the following sections:\n",
    "1. Data Loading and Preprocessing\n",
    "2. Exploratory Data Analysis (EDA)\n",
    "3. Linear Regression Modeling and Evaluation\n",
    "4. Conclusion\n",
    "5. Tkinter GUI for Interactive Movie Categorization\n"
   ]
  },
  {
   "cell_type": "code",
   "execution_count": null,
   "id": "774898da",
   "metadata": {},
   "outputs": [],
   "source": [
    "import pandas as pd\n",
    "import numpy as np\n",
    "\n",
    "def load_and_preprocess(file_path):\n",
    "    df = pd.read_csv(file_path)\n",
    "    df['Rating(10)'] = pd.to_numeric(df['Rating(10)'], errors='coerce')\n",
    "    df['Votes'] = pd.to_numeric(df['Votes'].str.replace(',', ''), errors='coerce')\n",
    "    df['Rating(10)'].fillna(0, inplace=True)\n",
    "    df['Votes'].fillna(0, inplace=True)\n",
    "    return df\n",
    "\n",
    "file_path = 'indian movies.csv'  # Replace with your dataset path\n",
    "df = load_and_preprocess(file_path)\n",
    "df.head()\n"
   ]
  },
  {
   "cell_type": "code",
   "execution_count": null,
   "id": "d7a443fa",
   "metadata": {},
   "outputs": [],
   "source": [
    "import matplotlib.pyplot as plt\n",
    "import seaborn as sns\n",
    "\n",
    "def perform_eda(df):\n",
    "    print(df.describe(include='all'))\n",
    "    \n",
    "    plt.figure(figsize=(12, 5))\n",
    "    plt.subplot(1, 2, 1)\n",
    "    sns.histplot(df['Rating(10)'], kde=True)\n",
    "    plt.title('Distribution of Ratings')\n",
    "    plt.subplot(1, 2, 2)\n",
    "    sns.histplot(df['Votes'], kde=True, bins=30)\n",
    "    plt.title('Distribution of Votes')\n",
    "    plt.show()\n",
    "\n",
    "    print(df.corr())\n",
    "\n",
    "perform_eda(df)\n"
   ]
  },
  {
   "cell_type": "code",
   "execution_count": null,
   "id": "5868343c",
   "metadata": {},
   "outputs": [],
   "source": [
    "from sklearn.model_selection import train_test_split\n",
    "from sklearn.linear_model import LinearRegression\n",
    "from sklearn.metrics import mean_squared_error\n",
    "\n",
    "def train_and_evaluate_regression_model(df):\n",
    "    X = df[['Votes']]  # Predictor variable\n",
    "    y = df['Rating(10)']  # Target variable\n",
    "    X_train, X_test, y_train, y_test = train_test_split(X, y, test_size=0.3, random_state=42)\n",
    "\n",
    "    model = LinearRegression()\n",
    "    model.fit(X_train, y_train)\n",
    "    y_pred = model.predict(X_test)\n",
    "    rmse = np.sqrt(mean_squared_error(y_test, y_pred))\n",
    "    print(f'RMSE: {rmse}')\n",
    "    return model\n",
    "\n",
    "model = train_and_evaluate_regression_model(df)\n"
   ]
  },
  {
   "cell_type": "markdown",
   "id": "ce140f8c",
   "metadata": {},
   "source": [
    "# Conclusion\n",
    "(Write your conclusion here)\n"
   ]
  },
  {
   "cell_type": "code",
   "execution_count": null,
   "id": "00610bac",
   "metadata": {},
   "outputs": [],
   "source": [
    "# Tkinter GUI (Uncomment to run)\n",
    "# import tkinter as tk\n",
    "# from tkinter import ttk\n",
    "\n",
    "# def show_category(movies_df):\n",
    "#     def display_category():\n",
    "#         selected_movie = movie_var.get()\n",
    "#         category = movies_df[movies_df['Movie Name'] == selected_movie]['Category'].iloc[0]\n",
    "#         result_label.config(text=f'Category: {category}')\n",
    "\n",
    "#     root = tk.Tk()\n",
    "#     root.title('Movie Hit or Flop Predictor')\n",
    "\n",
    "#     movie_var = tk.StringVar()\n",
    "#     movie_dropdown = ttk.Combobox(root, textvariable=movie_var, values=movies_df['Movie Name'].unique())\n",
    "#     movie_dropdown.grid(column=0, row=0, padx=10, pady=10)\n",
    "\n",
    "#     show_button = tk.Button(root, text=\"Show Category\", command=display_category)\n",
    "#     show_button.grid(column=1, row=0, padx=10, pady=10)\n",
    "\n",
    "#     result_label = tk.Label(root, text=\"\")\n",
    "#     result_label.grid(column=0, row=1, columnspan=2)\n",
    "\n",
    "#     root.mainloop()\n",
    "\n",
    "# show_category(df)\n"
   ]
  },
  {
   "cell_type": "code",
   "execution_count": null,
   "id": "d277eae0",
   "metadata": {},
   "outputs": [],
   "source": [
    "\n",
    "    votes_thresholds = {'flop': votes_quantiles[0.25], 'average_hit': votes_quantiles[0.75]}\n",
    "    df['Category'] = df.apply(categorize_movie, args=(rating_thresholds, votes_thresholds), axis=1)\n",
    "\n",
    "    perform_eda(df)\n",
    "    model = train_and_evaluate_regression_model(df)\n",
    "\n",
    "    # Uncomment the next line to run the GUI\n",
    "    # show_category(df)\n",
    "\n",
    "# Conclusion of findings (write your conclusion here)\n",
    "\n",
    "if __name__ == \"__main__\":\n",
    "    main()\n"
   ]
  }
 ],
 "metadata": {
  "kernelspec": {
   "display_name": "Python 3 (ipykernel)",
   "language": "python",
   "name": "python3"
  },
  "language_info": {
   "codemirror_mode": {
    "name": "ipython",
    "version": 3
   },
   "file_extension": ".py",
   "mimetype": "text/x-python",
   "name": "python",
   "nbconvert_exporter": "python",
   "pygments_lexer": "ipython3",
   "version": "3.11.4"
  }
 },
 "nbformat": 4,
 "nbformat_minor": 5
}
